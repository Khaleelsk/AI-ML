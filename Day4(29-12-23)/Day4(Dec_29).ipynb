{
 "cells": [
  {
   "cell_type": "markdown",
   "id": "5dafbc42",
   "metadata": {},
   "source": [
    "# Web Scraping"
   ]
  },
  {
   "cell_type": "code",
   "execution_count": 1,
   "id": "7174ded9",
   "metadata": {},
   "outputs": [
    {
     "name": "stdout",
     "output_type": "stream",
     "text": [
      "Requirement already satisfied: bs4 in d:\\softwares\\anaconda\\lib\\site-packages (0.0.1)\n",
      "Requirement already satisfied: requests in d:\\softwares\\anaconda\\lib\\site-packages (2.31.0)\n",
      "Requirement already satisfied: beautifulsoup4 in d:\\softwares\\anaconda\\lib\\site-packages (from bs4) (4.12.2)\n",
      "Requirement already satisfied: charset-normalizer<4,>=2 in d:\\softwares\\anaconda\\lib\\site-packages (from requests) (2.0.4)\n",
      "Requirement already satisfied: idna<4,>=2.5 in d:\\softwares\\anaconda\\lib\\site-packages (from requests) (3.4)\n",
      "Requirement already satisfied: urllib3<3,>=1.21.1 in d:\\softwares\\anaconda\\lib\\site-packages (from requests) (1.26.16)\n",
      "Requirement already satisfied: certifi>=2017.4.17 in d:\\softwares\\anaconda\\lib\\site-packages (from requests) (2023.7.22)\n",
      "Requirement already satisfied: soupsieve>1.2 in d:\\softwares\\anaconda\\lib\\site-packages (from beautifulsoup4->bs4) (2.4)\n"
     ]
    }
   ],
   "source": [
    "!pip install bs4 requests"
   ]
  },
  {
   "cell_type": "code",
   "execution_count": 2,
   "id": "1b478ecb",
   "metadata": {},
   "outputs": [],
   "source": [
    "from bs4 import BeautifulSoup\n",
    "import requests"
   ]
  },
  {
   "cell_type": "code",
   "execution_count": 3,
   "id": "df953536",
   "metadata": {},
   "outputs": [],
   "source": [
    "url='https://www.makaan.com/vijayawada-residential-property/buy-property-in-vijayawada-city?page=10'"
   ]
  },
  {
   "cell_type": "code",
   "execution_count": 4,
   "id": "48481dba",
   "metadata": {},
   "outputs": [
    {
     "data": {
      "text/plain": [
       "<Response [200]>"
      ]
     },
     "execution_count": 4,
     "metadata": {},
     "output_type": "execute_result"
    }
   ],
   "source": [
    "data=requests.get(url)\n",
    "data"
   ]
  },
  {
   "cell_type": "code",
   "execution_count": 5,
   "id": "aa439a2e",
   "metadata": {},
   "outputs": [],
   "source": [
    "soup=BeautifulSoup(data.content,'html')"
   ]
  },
  {
   "cell_type": "code",
   "execution_count": 6,
   "id": "5f3c5e05",
   "metadata": {},
   "outputs": [
    {
     "data": {
      "text/plain": [
       "'3 BHK Apartment'"
      ]
     },
     "execution_count": 6,
     "metadata": {},
     "output_type": "execute_result"
    }
   ],
   "source": [
    "soup.find('a',attrs={'class':'typelink'}).text"
   ]
  },
  {
   "cell_type": "code",
   "execution_count": 7,
   "id": "b4246ad3",
   "metadata": {},
   "outputs": [
    {
     "data": {
      "text/plain": [
       "'3 BHK Apartment'"
      ]
     },
     "execution_count": 7,
     "metadata": {},
     "output_type": "execute_result"
    }
   ],
   "source": [
    "soup.find('div',attrs={'class':'title-line'}).text"
   ]
  },
  {
   "cell_type": "code",
   "execution_count": 8,
   "id": "0a7b8f1b",
   "metadata": {
    "scrolled": false
   },
   "outputs": [
    {
     "data": {
      "text/plain": [
       "['3 BHK Apartment',\n",
       " '3 BHK Apartment',\n",
       " 'Residential Plot',\n",
       " 'Residential Plot',\n",
       " 'Residential Plot',\n",
       " 'Residential Plot',\n",
       " 'Residential Plot',\n",
       " '2 BHK Independent House',\n",
       " '2 BHK Independent Floor',\n",
       " '2 BHK Independent House',\n",
       " '2 BHK Independent House',\n",
       " '2 BHK Independent House',\n",
       " '2 BHK Independent House',\n",
       " '2 BHK Independent House',\n",
       " '2 BHK Apartment',\n",
       " 'Residential Plot',\n",
       " 'Residential Plot',\n",
       " 'Residential Plot',\n",
       " 'Residential Plot',\n",
       " 'Residential Plot']"
      ]
     },
     "execution_count": 8,
     "metadata": {},
     "output_type": "execute_result"
    }
   ],
   "source": [
    "m=soup.find_all('a',attrs={'typelink'})\n",
    "title=[]\n",
    "for i in m:\n",
    "    title.append(i.text)\n",
    "title\n",
    "    "
   ]
  },
  {
   "cell_type": "code",
   "execution_count": 9,
   "id": "ddc997ee",
   "metadata": {},
   "outputs": [
    {
     "data": {
      "text/plain": [
       "<span class=\"val\">3 </span>"
      ]
     },
     "execution_count": 9,
     "metadata": {},
     "output_type": "execute_result"
    }
   ],
   "source": [
    "soup.find('div',attrs={'class':'title-line'}).span"
   ]
  },
  {
   "cell_type": "code",
   "execution_count": 10,
   "id": "868ae94b",
   "metadata": {},
   "outputs": [
    {
     "data": {
      "text/plain": [
       "['3',\n",
       " '3',\n",
       " 'Residential Plot',\n",
       " 'Residential Plot',\n",
       " 'Residential Plot',\n",
       " 'Residential Plot',\n",
       " 'Residential Plot',\n",
       " '2',\n",
       " '2',\n",
       " '2',\n",
       " '2',\n",
       " '2',\n",
       " '2',\n",
       " '2',\n",
       " '2',\n",
       " 'Residential Plot',\n",
       " 'Residential Plot',\n",
       " 'Residential Plot',\n",
       " 'Residential Plot',\n",
       " 'Residential Plot']"
      ]
     },
     "execution_count": 10,
     "metadata": {},
     "output_type": "execute_result"
    }
   ],
   "source": [
    "n=soup.find_all('a',attrs={'class':'typelink'})\n",
    "bed_rooms=[]\n",
    "for i in n:\n",
    "    bed_rooms.append(i.span.text.strip())\n",
    "bed_rooms"
   ]
  },
  {
   "cell_type": "code",
   "execution_count": 11,
   "id": "aad62c31",
   "metadata": {},
   "outputs": [
    {
     "data": {
      "text/plain": [
       "['SSP Sree City Prime B']"
      ]
     },
     "execution_count": 11,
     "metadata": {},
     "output_type": "execute_result"
    }
   ],
   "source": [
    "p=soup.find_all('a',attrs={'class':'projName'})\n",
    "apart=[]\n",
    "for i in p:\n",
    "    apart.append(i.text)\n",
    "apart"
   ]
  },
  {
   "cell_type": "code",
   "execution_count": 12,
   "id": "0f821fb7",
   "metadata": {},
   "outputs": [
    {
     "data": {
      "text/plain": [
       "['Sri Ramachandra Nagar, Vijayawada',\n",
       " 'Sri Ramachandra Nagar, Vijayawada',\n",
       " 'Penamaluru, Vijayawada',\n",
       " 'Kankipadu, Vijayawada',\n",
       " 'Vijayawada Nuzvidu Road, Vijayawada',\n",
       " 'Kanuru, Vijayawada',\n",
       " 'Kankipadu, Vijayawada',\n",
       " 'Andhra Prabha Colony Road, Vijayawada',\n",
       " 'Kankipadu, Vijayawada',\n",
       " 'Penamaluru, Vijayawada',\n",
       " 'Kankipadu, Vijayawada',\n",
       " 'Kankipadu, Vijayawada',\n",
       " 'Kankipadu, Vijayawada',\n",
       " 'Penamaluru, Vijayawada',\n",
       " 'Gollapudi1, Vijayawada',\n",
       " 'SURAMPALLI, Vijayawada',\n",
       " 'SURAMPALLI, Vijayawada',\n",
       " 'SURAMPALLI, Vijayawada',\n",
       " 'Nuzividu, Vijayawada',\n",
       " 'Nuzividu, Vijayawada']"
      ]
     },
     "execution_count": 12,
     "metadata": {},
     "output_type": "execute_result"
    }
   ],
   "source": [
    "pq=soup.find_all('a',attrs={'class':'loclink'})\n",
    "location=[]\n",
    "for i in pq:\n",
    "    location.append(i.text)\n",
    "location"
   ]
  },
  {
   "cell_type": "code",
   "execution_count": 13,
   "id": "d472310d",
   "metadata": {},
   "outputs": [
    {
     "data": {
      "text/plain": [
       "[' 78 L',\n",
       " ' 1.15 Cr',\n",
       " ' 23 L',\n",
       " ' 19.99 L',\n",
       " ' 5.4 L',\n",
       " ' 35.3 L',\n",
       " ' 62.1 L',\n",
       " ' 68 L',\n",
       " ' 35 L',\n",
       " ' 59.99 L',\n",
       " ' 42 L',\n",
       " ' 33 L',\n",
       " ' 35 L',\n",
       " ' 54.99 L',\n",
       " ' 33 L',\n",
       " ' 5.39 L',\n",
       " ' 5.39 L',\n",
       " ' 5.39 L',\n",
       " ' 5.39 L',\n",
       " ' 5.39 L']"
      ]
     },
     "execution_count": 13,
     "metadata": {},
     "output_type": "execute_result"
    }
   ],
   "source": [
    "s=soup.find_all('td',attrs={'class':'price'})\n",
    "price=[]\n",
    "for i in s:\n",
    "    price.append(i.text)\n",
    "price"
   ]
  },
  {
   "cell_type": "code",
   "execution_count": 14,
   "id": "1e0faa91",
   "metadata": {},
   "outputs": [
    {
     "data": {
      "text/plain": [
       "['1460 ',\n",
       " '2110 ',\n",
       " '1107 ',\n",
       " '1500 ',\n",
       " '1080 ',\n",
       " '1548 ',\n",
       " '2430 ',\n",
       " '900 ',\n",
       " '1350 ',\n",
       " '1100 ',\n",
       " '1440 ',\n",
       " '1350 ',\n",
       " '1350 ',\n",
       " '1350 ',\n",
       " '1050 ',\n",
       " '1080 ',\n",
       " '1080 ',\n",
       " '1080 ',\n",
       " '1080 ',\n",
       " '1080 ']"
      ]
     },
     "execution_count": 14,
     "metadata": {},
     "output_type": "execute_result"
    }
   ],
   "source": [
    "k=soup.find_all('td',attrs={'class':'size'})\n",
    "sft=[]\n",
    "for i in k:\n",
    "    sft.append(i.text)\n",
    "sft"
   ]
  },
  {
   "cell_type": "code",
   "execution_count": 15,
   "id": "ed121995",
   "metadata": {},
   "outputs": [
    {
     "data": {
      "text/plain": [
       "['7 - 8 years old3 BathroomsNew ',\n",
       " '7 - 8 years old3 BathroomsNew ',\n",
       " ' 1.99 L booking amount',\n",
       " ' 99,999 booking amountEast facing',\n",
       " '1 open sides 20,000 booking amountNorth facing',\n",
       " '1 - 2 years old1 open sides 1 L booking amount',\n",
       " '1 open sides 1 L booking amountEast facing',\n",
       " '1 - 2 years old2 BathroomsNew ',\n",
       " 'Possession by Jul 20212 BathroomsNew ',\n",
       " 'Possession by Dec 20232 BathroomsNew ',\n",
       " '6 - 7 years old2 BathroomsResale ',\n",
       " 'Possession by Aug 20202 BathroomsNew ',\n",
       " 'Possession by Aug 20212 BathroomsNew ',\n",
       " 'Possession by Feb 20222 BathroomsNew ',\n",
       " '2 - 3 years old2 Bathrooms1st of 4floor',\n",
       " '1 open sides 20,000 booking amountWest facing',\n",
       " '1 open sides 20,000 booking amountSouth facing',\n",
       " '1 open sides 20,000 booking amountNorth facing',\n",
       " '2 open sides 20,000 booking amountNorthWest facing',\n",
       " '2 open sides 20,000 booking amountSouthEast facing']"
      ]
     },
     "execution_count": 15,
     "metadata": {},
     "output_type": "execute_result"
    }
   ],
   "source": [
    "d=soup.find_all('ul',attrs={'class':'listing-details'})\n",
    "no_of_years=[i.text for i in d]\n",
    "no_of_years"
   ]
  },
  {
   "cell_type": "code",
   "execution_count": 16,
   "id": "07c8db63",
   "metadata": {},
   "outputs": [
    {
     "data": {
      "text/plain": [
       "['3 BHK Property for Sale in Sri Ramachandra Nagar Vijayawada',\n",
       " '3 BHK Property for Sale in Sri Ramachandra Nagar Vijayawada',\n",
       " ' Property for Sale in Penamaluru Vijayawada',\n",
       " ' Property for Sale in Kankipadu Vijayawada',\n",
       " ' Property for Sale in Vijayawada Nuzvidu Road Vijayawada',\n",
       " ' Property for Sale in Kanuru Vijayawada',\n",
       " ' Property for Sale in Kankipadu Vijayawada',\n",
       " '2 BHK Property for Sale in Andhra Prabha Colony Road Vijayawada',\n",
       " '2 BHK Property for Sale in Kankipadu Vijayawada',\n",
       " '2 BHK Property for Sale in Penamaluru Vijayawada',\n",
       " '2 BHK Property for Sale in Kankipadu Vijayawada',\n",
       " '2 BHK Property for Sale in Kankipadu Vijayawada',\n",
       " '2 BHK Property for Sale in Kankipadu Vijayawada',\n",
       " '2 BHK Property for Sale in Penamaluru Vijayawada',\n",
       " '2 BHK Property for Sale in Gollapudi1 Vijayawada',\n",
       " ' Property for Sale in SURAMPALLI Vijayawada',\n",
       " ' Property for Sale in SURAMPALLI Vijayawada',\n",
       " ' Property for Sale in SURAMPALLI Vijayawada',\n",
       " ' Property for Sale in Nuzividu Vijayawada',\n",
       " ' Property for Sale in Nuzividu Vijayawada']"
      ]
     },
     "execution_count": 16,
     "metadata": {},
     "output_type": "execute_result"
    }
   ],
   "source": [
    "sp=soup.find_all('div',attrs={'class':'txt'})\n",
    "details=[]\n",
    "for i in sp:\n",
    "    details.append(i.span.text)\n",
    "details"
   ]
  },
  {
   "cell_type": "code",
   "execution_count": 17,
   "id": "71a46d58",
   "metadata": {},
   "outputs": [
    {
     "data": {
      "text/plain": [
       "['Guest',\n",
       " 'Guest',\n",
       " 'satya',\n",
       " 'satya',\n",
       " 'PropertiesAdda',\n",
       " 'mohammad ghouse',\n",
       " 'PAWAN PROPERTIES',\n",
       " 'ksairams',\n",
       " 'satya',\n",
       " 'satya',\n",
       " 'satya',\n",
       " 'satya',\n",
       " 'satya',\n",
       " 'satya',\n",
       " 'ksairams',\n",
       " 'Garima',\n",
       " 'Garima',\n",
       " 'Garima',\n",
       " 'Garima',\n",
       " 'Garima']"
      ]
     },
     "execution_count": 17,
     "metadata": {},
     "output_type": "execute_result"
    }
   ],
   "source": [
    "dd=soup.find_all('div',attrs={'class':'seller-info'})\n",
    "sellerinfo=[i.span.text for i in dd]\n",
    "sellerinfo"
   ]
  },
  {
   "cell_type": "code",
   "execution_count": 18,
   "id": "16db3fa8",
   "metadata": {},
   "outputs": [
    {
     "data": {
      "text/plain": [
       "[7800000,\n",
       " 11500000,\n",
       " 2300000,\n",
       " 1998999,\n",
       " 540000,\n",
       " 3529999,\n",
       " 6210000,\n",
       " 6800000,\n",
       " 3500000,\n",
       " 5999000,\n",
       " 4200000,\n",
       " 3300000,\n",
       " 3500000,\n",
       " 5499000,\n",
       " 3300000,\n",
       " 539000,\n",
       " 539000,\n",
       " 539000,\n",
       " 539000,\n",
       " 539000]"
      ]
     },
     "execution_count": 18,
     "metadata": {},
     "output_type": "execute_result"
    }
   ],
   "source": [
    "s=soup.find_all('td',attrs={'class':'price'})\n",
    "prices = []\n",
    "for i in s:\n",
    "    i = i.text.strip()\n",
    "    if(i.find('Cr') != -1):\n",
    "        prices.append(int(float(i.replace('Cr', '')) * 10000000))\n",
    "    else:\n",
    "        prices.append(int(float(i.replace('L', '')) * 100000))\n",
    "prices"
   ]
  },
  {
   "cell_type": "code",
   "execution_count": 19,
   "id": "1496e24e",
   "metadata": {
    "scrolled": true
   },
   "outputs": [
    {
     "data": {
      "text/plain": [
       "['Ready to move',\n",
       " 'Ready to move',\n",
       " 'New',\n",
       " 'New',\n",
       " 'New',\n",
       " 'Resale',\n",
       " 'New',\n",
       " 'Ready to move',\n",
       " 'Under Construction',\n",
       " 'Under Construction',\n",
       " 'Ready to move',\n",
       " 'Under Construction',\n",
       " 'Under Construction',\n",
       " 'Under Construction',\n",
       " 'Ready to move',\n",
       " 'New',\n",
       " 'New',\n",
       " 'New',\n",
       " 'New',\n",
       " 'New']"
      ]
     },
     "execution_count": 19,
     "metadata": {},
     "output_type": "execute_result"
    }
   ],
   "source": [
    "mm=soup.find_all('td',attrs={'class':'val'})\n",
    "status=[i.text for i in mm]\n",
    "status"
   ]
  },
  {
   "cell_type": "code",
   "execution_count": 20,
   "id": "b5f6851a",
   "metadata": {},
   "outputs": [],
   "source": [
    "import  re"
   ]
  },
  {
   "cell_type": "code",
   "execution_count": 21,
   "id": "21430c08",
   "metadata": {},
   "outputs": [],
   "source": [
    "Bathrooms=[]\n",
    "Facing=[]\n",
    "g=soup.find_all('ul',attrs={'class':'listing-details'})\n",
    "for i in g:\n",
    "    i=i.text\n",
    "    bathroom_count=re.findall(r'(/+d)Bathrooms',i)\n",
    "    if bathroom_count:\n",
    "        Bathrooms.append(int(bathroom_count[0]))\n",
    "    else:\n",
    "        Bathrooms.append(0)\n",
    "    facing_direction=re.findall(r'(North|South|East|West|NorthWest|NorthEast|SouthWest|SouthEast)','facing')\n",
    "    if facing_direction:\n",
    "        Facing.append(facing_direction[0])\n",
    "    else:\n",
    "        Facing.append('None')"
   ]
  },
  {
   "cell_type": "code",
   "execution_count": 22,
   "id": "d6327734",
   "metadata": {},
   "outputs": [
    {
     "data": {
      "text/plain": [
       "['None',\n",
       " 'None',\n",
       " 'None',\n",
       " 'None',\n",
       " 'None',\n",
       " 'None',\n",
       " 'None',\n",
       " 'None',\n",
       " 'None',\n",
       " 'None',\n",
       " 'None',\n",
       " 'None',\n",
       " 'None',\n",
       " 'None',\n",
       " 'None',\n",
       " 'None',\n",
       " 'None',\n",
       " 'None',\n",
       " 'None',\n",
       " 'None']"
      ]
     },
     "execution_count": 22,
     "metadata": {},
     "output_type": "execute_result"
    }
   ],
   "source": [
    "Facing"
   ]
  },
  {
   "cell_type": "code",
   "execution_count": 23,
   "id": "29f56e75",
   "metadata": {},
   "outputs": [
    {
     "data": {
      "text/plain": [
       "[0, 0, 0, 0, 0, 0, 0, 0, 0, 0, 0, 0, 0, 0, 0, 0, 0, 0, 0, 0]"
      ]
     },
     "execution_count": 23,
     "metadata": {},
     "output_type": "execute_result"
    }
   ],
   "source": [
    "Bathrooms"
   ]
  },
  {
   "cell_type": "code",
   "execution_count": 24,
   "id": "0aff6628",
   "metadata": {},
   "outputs": [],
   "source": [
    "import pandas as pd"
   ]
  },
  {
   "cell_type": "code",
   "execution_count": 25,
   "id": "52ba4a30",
   "metadata": {},
   "outputs": [],
   "source": [
    "dic={\"Title\":title,\n",
    "     \"Prices\":prices,\n",
    "     \"Location\":location,\n",
    "     \"SFT\":sft,\n",
    "     \"Status\":status,\n",
    "     \"SellerInfo\":sellerinfo,\n",
    "     \"No_of_years\":no_of_years\n",
    "     \n",
    "    }"
   ]
  },
  {
   "cell_type": "code",
   "execution_count": 26,
   "id": "bd5bf604",
   "metadata": {},
   "outputs": [],
   "source": [
    "df=pd.DataFrame(dic)"
   ]
  },
  {
   "cell_type": "code",
   "execution_count": 27,
   "id": "a4827f3a",
   "metadata": {},
   "outputs": [
    {
     "data": {
      "text/html": [
       "<div>\n",
       "<style scoped>\n",
       "    .dataframe tbody tr th:only-of-type {\n",
       "        vertical-align: middle;\n",
       "    }\n",
       "\n",
       "    .dataframe tbody tr th {\n",
       "        vertical-align: top;\n",
       "    }\n",
       "\n",
       "    .dataframe thead th {\n",
       "        text-align: right;\n",
       "    }\n",
       "</style>\n",
       "<table border=\"1\" class=\"dataframe\">\n",
       "  <thead>\n",
       "    <tr style=\"text-align: right;\">\n",
       "      <th></th>\n",
       "      <th>Title</th>\n",
       "      <th>Prices</th>\n",
       "      <th>Location</th>\n",
       "      <th>SFT</th>\n",
       "      <th>Status</th>\n",
       "      <th>SellerInfo</th>\n",
       "      <th>No_of_years</th>\n",
       "    </tr>\n",
       "  </thead>\n",
       "  <tbody>\n",
       "    <tr>\n",
       "      <th>0</th>\n",
       "      <td>3 BHK Apartment</td>\n",
       "      <td>7800000</td>\n",
       "      <td>Sri Ramachandra Nagar, Vijayawada</td>\n",
       "      <td>1460</td>\n",
       "      <td>Ready to move</td>\n",
       "      <td>Guest</td>\n",
       "      <td>7 - 8 years old3 BathroomsNew</td>\n",
       "    </tr>\n",
       "    <tr>\n",
       "      <th>1</th>\n",
       "      <td>3 BHK Apartment</td>\n",
       "      <td>11500000</td>\n",
       "      <td>Sri Ramachandra Nagar, Vijayawada</td>\n",
       "      <td>2110</td>\n",
       "      <td>Ready to move</td>\n",
       "      <td>Guest</td>\n",
       "      <td>7 - 8 years old3 BathroomsNew</td>\n",
       "    </tr>\n",
       "    <tr>\n",
       "      <th>2</th>\n",
       "      <td>Residential Plot</td>\n",
       "      <td>2300000</td>\n",
       "      <td>Penamaluru, Vijayawada</td>\n",
       "      <td>1107</td>\n",
       "      <td>New</td>\n",
       "      <td>satya</td>\n",
       "      <td>1.99 L booking amount</td>\n",
       "    </tr>\n",
       "    <tr>\n",
       "      <th>3</th>\n",
       "      <td>Residential Plot</td>\n",
       "      <td>1998999</td>\n",
       "      <td>Kankipadu, Vijayawada</td>\n",
       "      <td>1500</td>\n",
       "      <td>New</td>\n",
       "      <td>satya</td>\n",
       "      <td>99,999 booking amountEast facing</td>\n",
       "    </tr>\n",
       "    <tr>\n",
       "      <th>4</th>\n",
       "      <td>Residential Plot</td>\n",
       "      <td>540000</td>\n",
       "      <td>Vijayawada Nuzvidu Road, Vijayawada</td>\n",
       "      <td>1080</td>\n",
       "      <td>New</td>\n",
       "      <td>PropertiesAdda</td>\n",
       "      <td>1 open sides 20,000 booking amountNorth facing</td>\n",
       "    </tr>\n",
       "    <tr>\n",
       "      <th>5</th>\n",
       "      <td>Residential Plot</td>\n",
       "      <td>3529999</td>\n",
       "      <td>Kanuru, Vijayawada</td>\n",
       "      <td>1548</td>\n",
       "      <td>Resale</td>\n",
       "      <td>mohammad ghouse</td>\n",
       "      <td>1 - 2 years old1 open sides 1 L booking amount</td>\n",
       "    </tr>\n",
       "    <tr>\n",
       "      <th>6</th>\n",
       "      <td>Residential Plot</td>\n",
       "      <td>6210000</td>\n",
       "      <td>Kankipadu, Vijayawada</td>\n",
       "      <td>2430</td>\n",
       "      <td>New</td>\n",
       "      <td>PAWAN PROPERTIES</td>\n",
       "      <td>1 open sides 1 L booking amountEast facing</td>\n",
       "    </tr>\n",
       "    <tr>\n",
       "      <th>7</th>\n",
       "      <td>2 BHK Independent House</td>\n",
       "      <td>6800000</td>\n",
       "      <td>Andhra Prabha Colony Road, Vijayawada</td>\n",
       "      <td>900</td>\n",
       "      <td>Ready to move</td>\n",
       "      <td>ksairams</td>\n",
       "      <td>1 - 2 years old2 BathroomsNew</td>\n",
       "    </tr>\n",
       "    <tr>\n",
       "      <th>8</th>\n",
       "      <td>2 BHK Independent Floor</td>\n",
       "      <td>3500000</td>\n",
       "      <td>Kankipadu, Vijayawada</td>\n",
       "      <td>1350</td>\n",
       "      <td>Under Construction</td>\n",
       "      <td>satya</td>\n",
       "      <td>Possession by Jul 20212 BathroomsNew</td>\n",
       "    </tr>\n",
       "    <tr>\n",
       "      <th>9</th>\n",
       "      <td>2 BHK Independent House</td>\n",
       "      <td>5999000</td>\n",
       "      <td>Penamaluru, Vijayawada</td>\n",
       "      <td>1100</td>\n",
       "      <td>Under Construction</td>\n",
       "      <td>satya</td>\n",
       "      <td>Possession by Dec 20232 BathroomsNew</td>\n",
       "    </tr>\n",
       "    <tr>\n",
       "      <th>10</th>\n",
       "      <td>2 BHK Independent House</td>\n",
       "      <td>4200000</td>\n",
       "      <td>Kankipadu, Vijayawada</td>\n",
       "      <td>1440</td>\n",
       "      <td>Ready to move</td>\n",
       "      <td>satya</td>\n",
       "      <td>6 - 7 years old2 BathroomsResale</td>\n",
       "    </tr>\n",
       "    <tr>\n",
       "      <th>11</th>\n",
       "      <td>2 BHK Independent House</td>\n",
       "      <td>3300000</td>\n",
       "      <td>Kankipadu, Vijayawada</td>\n",
       "      <td>1350</td>\n",
       "      <td>Under Construction</td>\n",
       "      <td>satya</td>\n",
       "      <td>Possession by Aug 20202 BathroomsNew</td>\n",
       "    </tr>\n",
       "    <tr>\n",
       "      <th>12</th>\n",
       "      <td>2 BHK Independent House</td>\n",
       "      <td>3500000</td>\n",
       "      <td>Kankipadu, Vijayawada</td>\n",
       "      <td>1350</td>\n",
       "      <td>Under Construction</td>\n",
       "      <td>satya</td>\n",
       "      <td>Possession by Aug 20212 BathroomsNew</td>\n",
       "    </tr>\n",
       "    <tr>\n",
       "      <th>13</th>\n",
       "      <td>2 BHK Independent House</td>\n",
       "      <td>5499000</td>\n",
       "      <td>Penamaluru, Vijayawada</td>\n",
       "      <td>1350</td>\n",
       "      <td>Under Construction</td>\n",
       "      <td>satya</td>\n",
       "      <td>Possession by Feb 20222 BathroomsNew</td>\n",
       "    </tr>\n",
       "    <tr>\n",
       "      <th>14</th>\n",
       "      <td>2 BHK Apartment</td>\n",
       "      <td>3300000</td>\n",
       "      <td>Gollapudi1, Vijayawada</td>\n",
       "      <td>1050</td>\n",
       "      <td>Ready to move</td>\n",
       "      <td>ksairams</td>\n",
       "      <td>2 - 3 years old2 Bathrooms1st of 4floor</td>\n",
       "    </tr>\n",
       "    <tr>\n",
       "      <th>15</th>\n",
       "      <td>Residential Plot</td>\n",
       "      <td>539000</td>\n",
       "      <td>SURAMPALLI, Vijayawada</td>\n",
       "      <td>1080</td>\n",
       "      <td>New</td>\n",
       "      <td>Garima</td>\n",
       "      <td>1 open sides 20,000 booking amountWest facing</td>\n",
       "    </tr>\n",
       "    <tr>\n",
       "      <th>16</th>\n",
       "      <td>Residential Plot</td>\n",
       "      <td>539000</td>\n",
       "      <td>SURAMPALLI, Vijayawada</td>\n",
       "      <td>1080</td>\n",
       "      <td>New</td>\n",
       "      <td>Garima</td>\n",
       "      <td>1 open sides 20,000 booking amountSouth facing</td>\n",
       "    </tr>\n",
       "    <tr>\n",
       "      <th>17</th>\n",
       "      <td>Residential Plot</td>\n",
       "      <td>539000</td>\n",
       "      <td>SURAMPALLI, Vijayawada</td>\n",
       "      <td>1080</td>\n",
       "      <td>New</td>\n",
       "      <td>Garima</td>\n",
       "      <td>1 open sides 20,000 booking amountNorth facing</td>\n",
       "    </tr>\n",
       "    <tr>\n",
       "      <th>18</th>\n",
       "      <td>Residential Plot</td>\n",
       "      <td>539000</td>\n",
       "      <td>Nuzividu, Vijayawada</td>\n",
       "      <td>1080</td>\n",
       "      <td>New</td>\n",
       "      <td>Garima</td>\n",
       "      <td>2 open sides 20,000 booking amountNorthWest fa...</td>\n",
       "    </tr>\n",
       "    <tr>\n",
       "      <th>19</th>\n",
       "      <td>Residential Plot</td>\n",
       "      <td>539000</td>\n",
       "      <td>Nuzividu, Vijayawada</td>\n",
       "      <td>1080</td>\n",
       "      <td>New</td>\n",
       "      <td>Garima</td>\n",
       "      <td>2 open sides 20,000 booking amountSouthEast fa...</td>\n",
       "    </tr>\n",
       "  </tbody>\n",
       "</table>\n",
       "</div>"
      ],
      "text/plain": [
       "                      Title    Prices                               Location  \\\n",
       "0           3 BHK Apartment   7800000      Sri Ramachandra Nagar, Vijayawada   \n",
       "1           3 BHK Apartment  11500000      Sri Ramachandra Nagar, Vijayawada   \n",
       "2          Residential Plot   2300000                 Penamaluru, Vijayawada   \n",
       "3          Residential Plot   1998999                  Kankipadu, Vijayawada   \n",
       "4          Residential Plot    540000    Vijayawada Nuzvidu Road, Vijayawada   \n",
       "5          Residential Plot   3529999                     Kanuru, Vijayawada   \n",
       "6          Residential Plot   6210000                  Kankipadu, Vijayawada   \n",
       "7   2 BHK Independent House   6800000  Andhra Prabha Colony Road, Vijayawada   \n",
       "8   2 BHK Independent Floor   3500000                  Kankipadu, Vijayawada   \n",
       "9   2 BHK Independent House   5999000                 Penamaluru, Vijayawada   \n",
       "10  2 BHK Independent House   4200000                  Kankipadu, Vijayawada   \n",
       "11  2 BHK Independent House   3300000                  Kankipadu, Vijayawada   \n",
       "12  2 BHK Independent House   3500000                  Kankipadu, Vijayawada   \n",
       "13  2 BHK Independent House   5499000                 Penamaluru, Vijayawada   \n",
       "14          2 BHK Apartment   3300000                 Gollapudi1, Vijayawada   \n",
       "15         Residential Plot    539000                 SURAMPALLI, Vijayawada   \n",
       "16         Residential Plot    539000                 SURAMPALLI, Vijayawada   \n",
       "17         Residential Plot    539000                 SURAMPALLI, Vijayawada   \n",
       "18         Residential Plot    539000                   Nuzividu, Vijayawada   \n",
       "19         Residential Plot    539000                   Nuzividu, Vijayawada   \n",
       "\n",
       "      SFT              Status        SellerInfo  \\\n",
       "0   1460        Ready to move             Guest   \n",
       "1   2110        Ready to move             Guest   \n",
       "2   1107                  New             satya   \n",
       "3   1500                  New             satya   \n",
       "4   1080                  New    PropertiesAdda   \n",
       "5   1548               Resale   mohammad ghouse   \n",
       "6   2430                  New  PAWAN PROPERTIES   \n",
       "7    900        Ready to move          ksairams   \n",
       "8   1350   Under Construction             satya   \n",
       "9   1100   Under Construction             satya   \n",
       "10  1440        Ready to move             satya   \n",
       "11  1350   Under Construction             satya   \n",
       "12  1350   Under Construction             satya   \n",
       "13  1350   Under Construction             satya   \n",
       "14  1050        Ready to move          ksairams   \n",
       "15  1080                  New            Garima   \n",
       "16  1080                  New            Garima   \n",
       "17  1080                  New            Garima   \n",
       "18  1080                  New            Garima   \n",
       "19  1080                  New            Garima   \n",
       "\n",
       "                                          No_of_years  \n",
       "0                      7 - 8 years old3 BathroomsNew   \n",
       "1                      7 - 8 years old3 BathroomsNew   \n",
       "2                               1.99 L booking amount  \n",
       "3                    99,999 booking amountEast facing  \n",
       "4      1 open sides 20,000 booking amountNorth facing  \n",
       "5      1 - 2 years old1 open sides 1 L booking amount  \n",
       "6          1 open sides 1 L booking amountEast facing  \n",
       "7                      1 - 2 years old2 BathroomsNew   \n",
       "8               Possession by Jul 20212 BathroomsNew   \n",
       "9               Possession by Dec 20232 BathroomsNew   \n",
       "10                  6 - 7 years old2 BathroomsResale   \n",
       "11              Possession by Aug 20202 BathroomsNew   \n",
       "12              Possession by Aug 20212 BathroomsNew   \n",
       "13              Possession by Feb 20222 BathroomsNew   \n",
       "14            2 - 3 years old2 Bathrooms1st of 4floor  \n",
       "15      1 open sides 20,000 booking amountWest facing  \n",
       "16     1 open sides 20,000 booking amountSouth facing  \n",
       "17     1 open sides 20,000 booking amountNorth facing  \n",
       "18  2 open sides 20,000 booking amountNorthWest fa...  \n",
       "19  2 open sides 20,000 booking amountSouthEast fa...  "
      ]
     },
     "execution_count": 27,
     "metadata": {},
     "output_type": "execute_result"
    }
   ],
   "source": [
    "df"
   ]
  },
  {
   "cell_type": "code",
   "execution_count": 28,
   "id": "84561aea",
   "metadata": {},
   "outputs": [],
   "source": [
    "df.to_csv(\"Makaan10.csv\")"
   ]
  },
  {
   "cell_type": "code",
   "execution_count": 29,
   "id": "776a8704",
   "metadata": {},
   "outputs": [],
   "source": [
    "df2=pd.read_csv(\"Makaan10.csv\")"
   ]
  },
  {
   "cell_type": "code",
   "execution_count": 30,
   "id": "e38d35f6",
   "metadata": {},
   "outputs": [
    {
     "data": {
      "text/html": [
       "<div>\n",
       "<style scoped>\n",
       "    .dataframe tbody tr th:only-of-type {\n",
       "        vertical-align: middle;\n",
       "    }\n",
       "\n",
       "    .dataframe tbody tr th {\n",
       "        vertical-align: top;\n",
       "    }\n",
       "\n",
       "    .dataframe thead th {\n",
       "        text-align: right;\n",
       "    }\n",
       "</style>\n",
       "<table border=\"1\" class=\"dataframe\">\n",
       "  <thead>\n",
       "    <tr style=\"text-align: right;\">\n",
       "      <th></th>\n",
       "      <th>Unnamed: 0</th>\n",
       "      <th>Title</th>\n",
       "      <th>Prices</th>\n",
       "      <th>Location</th>\n",
       "      <th>SFT</th>\n",
       "      <th>Status</th>\n",
       "      <th>SellerInfo</th>\n",
       "      <th>No_of_years</th>\n",
       "    </tr>\n",
       "  </thead>\n",
       "  <tbody>\n",
       "    <tr>\n",
       "      <th>0</th>\n",
       "      <td>0</td>\n",
       "      <td>3 BHK Apartment</td>\n",
       "      <td>7800000</td>\n",
       "      <td>Sri Ramachandra Nagar, Vijayawada</td>\n",
       "      <td>1460</td>\n",
       "      <td>Ready to move</td>\n",
       "      <td>Guest</td>\n",
       "      <td>7 - 8 years old3 BathroomsNew</td>\n",
       "    </tr>\n",
       "    <tr>\n",
       "      <th>1</th>\n",
       "      <td>1</td>\n",
       "      <td>3 BHK Apartment</td>\n",
       "      <td>11500000</td>\n",
       "      <td>Sri Ramachandra Nagar, Vijayawada</td>\n",
       "      <td>2110</td>\n",
       "      <td>Ready to move</td>\n",
       "      <td>Guest</td>\n",
       "      <td>7 - 8 years old3 BathroomsNew</td>\n",
       "    </tr>\n",
       "    <tr>\n",
       "      <th>2</th>\n",
       "      <td>2</td>\n",
       "      <td>Residential Plot</td>\n",
       "      <td>2300000</td>\n",
       "      <td>Penamaluru, Vijayawada</td>\n",
       "      <td>1107</td>\n",
       "      <td>New</td>\n",
       "      <td>satya</td>\n",
       "      <td>1.99 L booking amount</td>\n",
       "    </tr>\n",
       "    <tr>\n",
       "      <th>3</th>\n",
       "      <td>3</td>\n",
       "      <td>Residential Plot</td>\n",
       "      <td>1998999</td>\n",
       "      <td>Kankipadu, Vijayawada</td>\n",
       "      <td>1500</td>\n",
       "      <td>New</td>\n",
       "      <td>satya</td>\n",
       "      <td>99,999 booking amountEast facing</td>\n",
       "    </tr>\n",
       "    <tr>\n",
       "      <th>4</th>\n",
       "      <td>4</td>\n",
       "      <td>Residential Plot</td>\n",
       "      <td>540000</td>\n",
       "      <td>Vijayawada Nuzvidu Road, Vijayawada</td>\n",
       "      <td>1080</td>\n",
       "      <td>New</td>\n",
       "      <td>PropertiesAdda</td>\n",
       "      <td>1 open sides 20,000 booking amountNorth facing</td>\n",
       "    </tr>\n",
       "    <tr>\n",
       "      <th>5</th>\n",
       "      <td>5</td>\n",
       "      <td>Residential Plot</td>\n",
       "      <td>3529999</td>\n",
       "      <td>Kanuru, Vijayawada</td>\n",
       "      <td>1548</td>\n",
       "      <td>Resale</td>\n",
       "      <td>mohammad ghouse</td>\n",
       "      <td>1 - 2 years old1 open sides 1 L booking amount</td>\n",
       "    </tr>\n",
       "    <tr>\n",
       "      <th>6</th>\n",
       "      <td>6</td>\n",
       "      <td>Residential Plot</td>\n",
       "      <td>6210000</td>\n",
       "      <td>Kankipadu, Vijayawada</td>\n",
       "      <td>2430</td>\n",
       "      <td>New</td>\n",
       "      <td>PAWAN PROPERTIES</td>\n",
       "      <td>1 open sides 1 L booking amountEast facing</td>\n",
       "    </tr>\n",
       "    <tr>\n",
       "      <th>7</th>\n",
       "      <td>7</td>\n",
       "      <td>2 BHK Independent House</td>\n",
       "      <td>6800000</td>\n",
       "      <td>Andhra Prabha Colony Road, Vijayawada</td>\n",
       "      <td>900</td>\n",
       "      <td>Ready to move</td>\n",
       "      <td>ksairams</td>\n",
       "      <td>1 - 2 years old2 BathroomsNew</td>\n",
       "    </tr>\n",
       "    <tr>\n",
       "      <th>8</th>\n",
       "      <td>8</td>\n",
       "      <td>2 BHK Independent Floor</td>\n",
       "      <td>3500000</td>\n",
       "      <td>Kankipadu, Vijayawada</td>\n",
       "      <td>1350</td>\n",
       "      <td>Under Construction</td>\n",
       "      <td>satya</td>\n",
       "      <td>Possession by Jul 20212 BathroomsNew</td>\n",
       "    </tr>\n",
       "    <tr>\n",
       "      <th>9</th>\n",
       "      <td>9</td>\n",
       "      <td>2 BHK Independent House</td>\n",
       "      <td>5999000</td>\n",
       "      <td>Penamaluru, Vijayawada</td>\n",
       "      <td>1100</td>\n",
       "      <td>Under Construction</td>\n",
       "      <td>satya</td>\n",
       "      <td>Possession by Dec 20232 BathroomsNew</td>\n",
       "    </tr>\n",
       "    <tr>\n",
       "      <th>10</th>\n",
       "      <td>10</td>\n",
       "      <td>2 BHK Independent House</td>\n",
       "      <td>4200000</td>\n",
       "      <td>Kankipadu, Vijayawada</td>\n",
       "      <td>1440</td>\n",
       "      <td>Ready to move</td>\n",
       "      <td>satya</td>\n",
       "      <td>6 - 7 years old2 BathroomsResale</td>\n",
       "    </tr>\n",
       "    <tr>\n",
       "      <th>11</th>\n",
       "      <td>11</td>\n",
       "      <td>2 BHK Independent House</td>\n",
       "      <td>3300000</td>\n",
       "      <td>Kankipadu, Vijayawada</td>\n",
       "      <td>1350</td>\n",
       "      <td>Under Construction</td>\n",
       "      <td>satya</td>\n",
       "      <td>Possession by Aug 20202 BathroomsNew</td>\n",
       "    </tr>\n",
       "    <tr>\n",
       "      <th>12</th>\n",
       "      <td>12</td>\n",
       "      <td>2 BHK Independent House</td>\n",
       "      <td>3500000</td>\n",
       "      <td>Kankipadu, Vijayawada</td>\n",
       "      <td>1350</td>\n",
       "      <td>Under Construction</td>\n",
       "      <td>satya</td>\n",
       "      <td>Possession by Aug 20212 BathroomsNew</td>\n",
       "    </tr>\n",
       "    <tr>\n",
       "      <th>13</th>\n",
       "      <td>13</td>\n",
       "      <td>2 BHK Independent House</td>\n",
       "      <td>5499000</td>\n",
       "      <td>Penamaluru, Vijayawada</td>\n",
       "      <td>1350</td>\n",
       "      <td>Under Construction</td>\n",
       "      <td>satya</td>\n",
       "      <td>Possession by Feb 20222 BathroomsNew</td>\n",
       "    </tr>\n",
       "    <tr>\n",
       "      <th>14</th>\n",
       "      <td>14</td>\n",
       "      <td>2 BHK Apartment</td>\n",
       "      <td>3300000</td>\n",
       "      <td>Gollapudi1, Vijayawada</td>\n",
       "      <td>1050</td>\n",
       "      <td>Ready to move</td>\n",
       "      <td>ksairams</td>\n",
       "      <td>2 - 3 years old2 Bathrooms1st of 4floor</td>\n",
       "    </tr>\n",
       "    <tr>\n",
       "      <th>15</th>\n",
       "      <td>15</td>\n",
       "      <td>Residential Plot</td>\n",
       "      <td>539000</td>\n",
       "      <td>SURAMPALLI, Vijayawada</td>\n",
       "      <td>1080</td>\n",
       "      <td>New</td>\n",
       "      <td>Garima</td>\n",
       "      <td>1 open sides 20,000 booking amountWest facing</td>\n",
       "    </tr>\n",
       "    <tr>\n",
       "      <th>16</th>\n",
       "      <td>16</td>\n",
       "      <td>Residential Plot</td>\n",
       "      <td>539000</td>\n",
       "      <td>SURAMPALLI, Vijayawada</td>\n",
       "      <td>1080</td>\n",
       "      <td>New</td>\n",
       "      <td>Garima</td>\n",
       "      <td>1 open sides 20,000 booking amountSouth facing</td>\n",
       "    </tr>\n",
       "    <tr>\n",
       "      <th>17</th>\n",
       "      <td>17</td>\n",
       "      <td>Residential Plot</td>\n",
       "      <td>539000</td>\n",
       "      <td>SURAMPALLI, Vijayawada</td>\n",
       "      <td>1080</td>\n",
       "      <td>New</td>\n",
       "      <td>Garima</td>\n",
       "      <td>1 open sides 20,000 booking amountNorth facing</td>\n",
       "    </tr>\n",
       "    <tr>\n",
       "      <th>18</th>\n",
       "      <td>18</td>\n",
       "      <td>Residential Plot</td>\n",
       "      <td>539000</td>\n",
       "      <td>Nuzividu, Vijayawada</td>\n",
       "      <td>1080</td>\n",
       "      <td>New</td>\n",
       "      <td>Garima</td>\n",
       "      <td>2 open sides 20,000 booking amountNorthWest fa...</td>\n",
       "    </tr>\n",
       "    <tr>\n",
       "      <th>19</th>\n",
       "      <td>19</td>\n",
       "      <td>Residential Plot</td>\n",
       "      <td>539000</td>\n",
       "      <td>Nuzividu, Vijayawada</td>\n",
       "      <td>1080</td>\n",
       "      <td>New</td>\n",
       "      <td>Garima</td>\n",
       "      <td>2 open sides 20,000 booking amountSouthEast fa...</td>\n",
       "    </tr>\n",
       "  </tbody>\n",
       "</table>\n",
       "</div>"
      ],
      "text/plain": [
       "    Unnamed: 0                    Title    Prices  \\\n",
       "0            0          3 BHK Apartment   7800000   \n",
       "1            1          3 BHK Apartment  11500000   \n",
       "2            2         Residential Plot   2300000   \n",
       "3            3         Residential Plot   1998999   \n",
       "4            4         Residential Plot    540000   \n",
       "5            5         Residential Plot   3529999   \n",
       "6            6         Residential Plot   6210000   \n",
       "7            7  2 BHK Independent House   6800000   \n",
       "8            8  2 BHK Independent Floor   3500000   \n",
       "9            9  2 BHK Independent House   5999000   \n",
       "10          10  2 BHK Independent House   4200000   \n",
       "11          11  2 BHK Independent House   3300000   \n",
       "12          12  2 BHK Independent House   3500000   \n",
       "13          13  2 BHK Independent House   5499000   \n",
       "14          14          2 BHK Apartment   3300000   \n",
       "15          15         Residential Plot    539000   \n",
       "16          16         Residential Plot    539000   \n",
       "17          17         Residential Plot    539000   \n",
       "18          18         Residential Plot    539000   \n",
       "19          19         Residential Plot    539000   \n",
       "\n",
       "                                 Location   SFT              Status  \\\n",
       "0       Sri Ramachandra Nagar, Vijayawada  1460       Ready to move   \n",
       "1       Sri Ramachandra Nagar, Vijayawada  2110       Ready to move   \n",
       "2                  Penamaluru, Vijayawada  1107                 New   \n",
       "3                   Kankipadu, Vijayawada  1500                 New   \n",
       "4     Vijayawada Nuzvidu Road, Vijayawada  1080                 New   \n",
       "5                      Kanuru, Vijayawada  1548              Resale   \n",
       "6                   Kankipadu, Vijayawada  2430                 New   \n",
       "7   Andhra Prabha Colony Road, Vijayawada   900       Ready to move   \n",
       "8                   Kankipadu, Vijayawada  1350  Under Construction   \n",
       "9                  Penamaluru, Vijayawada  1100  Under Construction   \n",
       "10                  Kankipadu, Vijayawada  1440       Ready to move   \n",
       "11                  Kankipadu, Vijayawada  1350  Under Construction   \n",
       "12                  Kankipadu, Vijayawada  1350  Under Construction   \n",
       "13                 Penamaluru, Vijayawada  1350  Under Construction   \n",
       "14                 Gollapudi1, Vijayawada  1050       Ready to move   \n",
       "15                 SURAMPALLI, Vijayawada  1080                 New   \n",
       "16                 SURAMPALLI, Vijayawada  1080                 New   \n",
       "17                 SURAMPALLI, Vijayawada  1080                 New   \n",
       "18                   Nuzividu, Vijayawada  1080                 New   \n",
       "19                   Nuzividu, Vijayawada  1080                 New   \n",
       "\n",
       "          SellerInfo                                        No_of_years  \n",
       "0              Guest                     7 - 8 years old3 BathroomsNew   \n",
       "1              Guest                     7 - 8 years old3 BathroomsNew   \n",
       "2              satya                              1.99 L booking amount  \n",
       "3              satya                   99,999 booking amountEast facing  \n",
       "4     PropertiesAdda     1 open sides 20,000 booking amountNorth facing  \n",
       "5    mohammad ghouse     1 - 2 years old1 open sides 1 L booking amount  \n",
       "6   PAWAN PROPERTIES         1 open sides 1 L booking amountEast facing  \n",
       "7           ksairams                     1 - 2 years old2 BathroomsNew   \n",
       "8              satya              Possession by Jul 20212 BathroomsNew   \n",
       "9              satya              Possession by Dec 20232 BathroomsNew   \n",
       "10             satya                  6 - 7 years old2 BathroomsResale   \n",
       "11             satya              Possession by Aug 20202 BathroomsNew   \n",
       "12             satya              Possession by Aug 20212 BathroomsNew   \n",
       "13             satya              Possession by Feb 20222 BathroomsNew   \n",
       "14          ksairams            2 - 3 years old2 Bathrooms1st of 4floor  \n",
       "15            Garima      1 open sides 20,000 booking amountWest facing  \n",
       "16            Garima     1 open sides 20,000 booking amountSouth facing  \n",
       "17            Garima     1 open sides 20,000 booking amountNorth facing  \n",
       "18            Garima  2 open sides 20,000 booking amountNorthWest fa...  \n",
       "19            Garima  2 open sides 20,000 booking amountSouthEast fa...  "
      ]
     },
     "execution_count": 30,
     "metadata": {},
     "output_type": "execute_result"
    }
   ],
   "source": [
    "df2"
   ]
  },
  {
   "cell_type": "code",
   "execution_count": null,
   "id": "970dcf59",
   "metadata": {},
   "outputs": [],
   "source": []
  },
  {
   "cell_type": "code",
   "execution_count": null,
   "id": "fd1e28a2",
   "metadata": {},
   "outputs": [],
   "source": []
  }
 ],
 "metadata": {
  "kernelspec": {
   "display_name": "Python 3 (ipykernel)",
   "language": "python",
   "name": "python3"
  },
  "language_info": {
   "codemirror_mode": {
    "name": "ipython",
    "version": 3
   },
   "file_extension": ".py",
   "mimetype": "text/x-python",
   "name": "python",
   "nbconvert_exporter": "python",
   "pygments_lexer": "ipython3",
   "version": "3.11.5"
  }
 },
 "nbformat": 4,
 "nbformat_minor": 5
}
